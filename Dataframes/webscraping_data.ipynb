{
 "cells": [
  {
   "cell_type": "code",
   "execution_count": 2,
   "metadata": {},
   "outputs": [
    {
     "name": "stdout",
     "output_type": "stream",
     "text": [
      "Defaulting to user installation because normal site-packages is not writeable\n",
      "Requirement already satisfied: selenium in /Users/test/Library/Python/3.9/lib/python/site-packages (4.12.0)\n",
      "Requirement already satisfied: urllib3[socks]<3,>=1.26 in /Users/test/Library/Python/3.9/lib/python/site-packages (from selenium) (2.0.4)\n",
      "Requirement already satisfied: trio~=0.17 in /Users/test/Library/Python/3.9/lib/python/site-packages (from selenium) (0.22.2)\n",
      "Requirement already satisfied: trio-websocket~=0.9 in /Users/test/Library/Python/3.9/lib/python/site-packages (from selenium) (0.10.4)\n",
      "Requirement already satisfied: certifi>=2021.10.8 in /Users/test/Library/Python/3.9/lib/python/site-packages (from selenium) (2023.7.22)\n",
      "Requirement already satisfied: attrs>=20.1.0 in /Users/test/Library/Python/3.9/lib/python/site-packages (from trio~=0.17->selenium) (23.1.0)\n",
      "Requirement already satisfied: sortedcontainers in /Users/test/Library/Python/3.9/lib/python/site-packages (from trio~=0.17->selenium) (2.4.0)\n",
      "Requirement already satisfied: idna in /Users/test/Library/Python/3.9/lib/python/site-packages (from trio~=0.17->selenium) (3.4)\n",
      "Requirement already satisfied: outcome in /Users/test/Library/Python/3.9/lib/python/site-packages (from trio~=0.17->selenium) (1.2.0)\n",
      "Requirement already satisfied: sniffio in /Users/test/Library/Python/3.9/lib/python/site-packages (from trio~=0.17->selenium) (1.3.0)\n",
      "Requirement already satisfied: exceptiongroup>=1.0.0rc9 in /Users/test/Library/Python/3.9/lib/python/site-packages (from trio~=0.17->selenium) (1.1.3)\n",
      "Requirement already satisfied: wsproto>=0.14 in /Users/test/Library/Python/3.9/lib/python/site-packages (from trio-websocket~=0.9->selenium) (1.2.0)\n",
      "Requirement already satisfied: pysocks!=1.5.7,<2.0,>=1.5.6 in /Users/test/Library/Python/3.9/lib/python/site-packages (from urllib3[socks]<3,>=1.26->selenium) (1.7.1)\n",
      "Requirement already satisfied: h11<1,>=0.9.0 in /Users/test/Library/Python/3.9/lib/python/site-packages (from wsproto>=0.14->trio-websocket~=0.9->selenium) (0.14.0)\n"
     ]
    }
   ],
   "source": [
    "!pip install selenium"
   ]
  },
  {
   "cell_type": "code",
   "execution_count": 3,
   "metadata": {},
   "outputs": [
    {
     "name": "stdout",
     "output_type": "stream",
     "text": [
      "Defaulting to user installation because normal site-packages is not writeable\n",
      "Requirement already satisfied: pandas in /Users/test/Library/Python/3.9/lib/python/site-packages (2.1.0)\n",
      "Requirement already satisfied: numpy>=1.22.4 in /Users/test/Library/Python/3.9/lib/python/site-packages (from pandas) (1.25.2)\n",
      "Requirement already satisfied: python-dateutil>=2.8.2 in /Users/test/Library/Python/3.9/lib/python/site-packages (from pandas) (2.8.2)\n",
      "Requirement already satisfied: pytz>=2020.1 in /Users/test/Library/Python/3.9/lib/python/site-packages (from pandas) (2023.3.post1)\n",
      "Requirement already satisfied: tzdata>=2022.1 in /Users/test/Library/Python/3.9/lib/python/site-packages (from pandas) (2023.3)\n",
      "Requirement already satisfied: six>=1.5 in /Library/Developer/CommandLineTools/Library/Frameworks/Python3.framework/Versions/3.9/lib/python3.9/site-packages (from python-dateutil>=2.8.2->pandas) (1.15.0)\n",
      "Defaulting to user installation because normal site-packages is not writeable\n",
      "Requirement already satisfied: lxml in /Users/test/Library/Python/3.9/lib/python/site-packages (4.9.3)\n"
     ]
    }
   ],
   "source": [
    "!pip install pandas\n",
    "!pip install lxml"
   ]
  },
  {
   "cell_type": "code",
   "execution_count": 4,
   "metadata": {},
   "outputs": [
    {
     "name": "stderr",
     "output_type": "stream",
     "text": [
      "/Users/test/Library/Python/3.9/lib/python/site-packages/urllib3/__init__.py:34: NotOpenSSLWarning: urllib3 v2.0 only supports OpenSSL 1.1.1+, currently the 'ssl' module is compiled with 'LibreSSL 2.8.3'. See: https://github.com/urllib3/urllib3/issues/3020\n",
      "  warnings.warn(\n"
     ]
    }
   ],
   "source": [
    "from bs4 import BeautifulSoup\n",
    "import pandas as pd\n",
    "import numpy as np\n",
    "import requests"
   ]
  },
  {
   "attachments": {},
   "cell_type": "markdown",
   "metadata": {},
   "source": [
    "### Webscraping MVP Data"
   ]
  },
  {
   "cell_type": "code",
   "execution_count": 5,
   "metadata": {},
   "outputs": [],
   "source": [
    "df_2023=pd.read_csv('webscrape/2023.csv')\n",
    "df_2022 = pd.read_csv('webscrape/2022.csv')\n",
    "df_2021 = pd.read_csv('webscrape/2021.csv')\n",
    "\n",
    "df_2023['Year'] = 2023\n",
    "df_2022['Year'] = 2022\n",
    "df_2021['Year'] = 2021"
   ]
  },
  {
   "cell_type": "code",
   "execution_count": 6,
   "metadata": {},
   "outputs": [],
   "source": [
    "years = list(range(1991,2021))"
   ]
  },
  {
   "cell_type": "code",
   "execution_count": null,
   "metadata": {},
   "outputs": [],
   "source": []
  },
  {
   "cell_type": "code",
   "execution_count": 7,
   "metadata": {},
   "outputs": [],
   "source": [
    "url_start = \"https://www.basketball-reference.com/awards/awards_{}.html\""
   ]
  },
  {
   "cell_type": "code",
   "execution_count": 8,
   "metadata": {},
   "outputs": [
    {
     "ename": "SSLError",
     "evalue": "HTTPSConnectionPool(host='www.basketball-reference.com', port=443): Max retries exceeded with url: /awards/awards_1991.html (Caused by SSLError(SSLCertVerificationError(1, '[SSL: CERTIFICATE_VERIFY_FAILED] certificate verify failed: unable to get local issuer certificate (_ssl.c:1129)')))",
     "output_type": "error",
     "traceback": [
      "\u001b[0;31m---------------------------------------------------------------------------\u001b[0m",
      "\u001b[0;31mSSLCertVerificationError\u001b[0m                  Traceback (most recent call last)",
      "File \u001b[0;32m~/Library/Python/3.9/lib/python/site-packages/urllib3/connectionpool.py:467\u001b[0m, in \u001b[0;36mHTTPConnectionPool._make_request\u001b[0;34m(self, conn, method, url, body, headers, retries, timeout, chunked, response_conn, preload_content, decode_content, enforce_content_length)\u001b[0m\n\u001b[1;32m    466\u001b[0m \u001b[39mtry\u001b[39;00m:\n\u001b[0;32m--> 467\u001b[0m     \u001b[39mself\u001b[39;49m\u001b[39m.\u001b[39;49m_validate_conn(conn)\n\u001b[1;32m    468\u001b[0m \u001b[39mexcept\u001b[39;00m (SocketTimeout, BaseSSLError) \u001b[39mas\u001b[39;00m e:\n",
      "File \u001b[0;32m~/Library/Python/3.9/lib/python/site-packages/urllib3/connectionpool.py:1092\u001b[0m, in \u001b[0;36mHTTPSConnectionPool._validate_conn\u001b[0;34m(self, conn)\u001b[0m\n\u001b[1;32m   1091\u001b[0m \u001b[39mif\u001b[39;00m conn\u001b[39m.\u001b[39mis_closed:\n\u001b[0;32m-> 1092\u001b[0m     conn\u001b[39m.\u001b[39;49mconnect()\n\u001b[1;32m   1094\u001b[0m \u001b[39mif\u001b[39;00m \u001b[39mnot\u001b[39;00m conn\u001b[39m.\u001b[39mis_verified:\n",
      "File \u001b[0;32m~/Library/Python/3.9/lib/python/site-packages/urllib3/connection.py:642\u001b[0m, in \u001b[0;36mHTTPSConnection.connect\u001b[0;34m(self)\u001b[0m\n\u001b[1;32m    634\u001b[0m     warnings\u001b[39m.\u001b[39mwarn(\n\u001b[1;32m    635\u001b[0m         (\n\u001b[1;32m    636\u001b[0m             \u001b[39mf\u001b[39m\u001b[39m\"\u001b[39m\u001b[39mSystem time is way off (before \u001b[39m\u001b[39m{\u001b[39;00mRECENT_DATE\u001b[39m}\u001b[39;00m\u001b[39m). This will probably \u001b[39m\u001b[39m\"\u001b[39m\n\u001b[0;32m   (...)\u001b[0m\n\u001b[1;32m    639\u001b[0m         SystemTimeWarning,\n\u001b[1;32m    640\u001b[0m     )\n\u001b[0;32m--> 642\u001b[0m sock_and_verified \u001b[39m=\u001b[39m _ssl_wrap_socket_and_match_hostname(\n\u001b[1;32m    643\u001b[0m     sock\u001b[39m=\u001b[39;49msock,\n\u001b[1;32m    644\u001b[0m     cert_reqs\u001b[39m=\u001b[39;49m\u001b[39mself\u001b[39;49m\u001b[39m.\u001b[39;49mcert_reqs,\n\u001b[1;32m    645\u001b[0m     ssl_version\u001b[39m=\u001b[39;49m\u001b[39mself\u001b[39;49m\u001b[39m.\u001b[39;49mssl_version,\n\u001b[1;32m    646\u001b[0m     ssl_minimum_version\u001b[39m=\u001b[39;49m\u001b[39mself\u001b[39;49m\u001b[39m.\u001b[39;49mssl_minimum_version,\n\u001b[1;32m    647\u001b[0m     ssl_maximum_version\u001b[39m=\u001b[39;49m\u001b[39mself\u001b[39;49m\u001b[39m.\u001b[39;49mssl_maximum_version,\n\u001b[1;32m    648\u001b[0m     ca_certs\u001b[39m=\u001b[39;49m\u001b[39mself\u001b[39;49m\u001b[39m.\u001b[39;49mca_certs,\n\u001b[1;32m    649\u001b[0m     ca_cert_dir\u001b[39m=\u001b[39;49m\u001b[39mself\u001b[39;49m\u001b[39m.\u001b[39;49mca_cert_dir,\n\u001b[1;32m    650\u001b[0m     ca_cert_data\u001b[39m=\u001b[39;49m\u001b[39mself\u001b[39;49m\u001b[39m.\u001b[39;49mca_cert_data,\n\u001b[1;32m    651\u001b[0m     cert_file\u001b[39m=\u001b[39;49m\u001b[39mself\u001b[39;49m\u001b[39m.\u001b[39;49mcert_file,\n\u001b[1;32m    652\u001b[0m     key_file\u001b[39m=\u001b[39;49m\u001b[39mself\u001b[39;49m\u001b[39m.\u001b[39;49mkey_file,\n\u001b[1;32m    653\u001b[0m     key_password\u001b[39m=\u001b[39;49m\u001b[39mself\u001b[39;49m\u001b[39m.\u001b[39;49mkey_password,\n\u001b[1;32m    654\u001b[0m     server_hostname\u001b[39m=\u001b[39;49mserver_hostname,\n\u001b[1;32m    655\u001b[0m     ssl_context\u001b[39m=\u001b[39;49m\u001b[39mself\u001b[39;49m\u001b[39m.\u001b[39;49mssl_context,\n\u001b[1;32m    656\u001b[0m     tls_in_tls\u001b[39m=\u001b[39;49mtls_in_tls,\n\u001b[1;32m    657\u001b[0m     assert_hostname\u001b[39m=\u001b[39;49m\u001b[39mself\u001b[39;49m\u001b[39m.\u001b[39;49massert_hostname,\n\u001b[1;32m    658\u001b[0m     assert_fingerprint\u001b[39m=\u001b[39;49m\u001b[39mself\u001b[39;49m\u001b[39m.\u001b[39;49massert_fingerprint,\n\u001b[1;32m    659\u001b[0m )\n\u001b[1;32m    660\u001b[0m \u001b[39mself\u001b[39m\u001b[39m.\u001b[39msock \u001b[39m=\u001b[39m sock_and_verified\u001b[39m.\u001b[39msocket\n",
      "File \u001b[0;32m~/Library/Python/3.9/lib/python/site-packages/urllib3/connection.py:783\u001b[0m, in \u001b[0;36m_ssl_wrap_socket_and_match_hostname\u001b[0;34m(sock, cert_reqs, ssl_version, ssl_minimum_version, ssl_maximum_version, cert_file, key_file, key_password, ca_certs, ca_cert_dir, ca_cert_data, assert_hostname, assert_fingerprint, server_hostname, ssl_context, tls_in_tls)\u001b[0m\n\u001b[1;32m    781\u001b[0m         server_hostname \u001b[39m=\u001b[39m normalized\n\u001b[0;32m--> 783\u001b[0m ssl_sock \u001b[39m=\u001b[39m ssl_wrap_socket(\n\u001b[1;32m    784\u001b[0m     sock\u001b[39m=\u001b[39;49msock,\n\u001b[1;32m    785\u001b[0m     keyfile\u001b[39m=\u001b[39;49mkey_file,\n\u001b[1;32m    786\u001b[0m     certfile\u001b[39m=\u001b[39;49mcert_file,\n\u001b[1;32m    787\u001b[0m     key_password\u001b[39m=\u001b[39;49mkey_password,\n\u001b[1;32m    788\u001b[0m     ca_certs\u001b[39m=\u001b[39;49mca_certs,\n\u001b[1;32m    789\u001b[0m     ca_cert_dir\u001b[39m=\u001b[39;49mca_cert_dir,\n\u001b[1;32m    790\u001b[0m     ca_cert_data\u001b[39m=\u001b[39;49mca_cert_data,\n\u001b[1;32m    791\u001b[0m     server_hostname\u001b[39m=\u001b[39;49mserver_hostname,\n\u001b[1;32m    792\u001b[0m     ssl_context\u001b[39m=\u001b[39;49mcontext,\n\u001b[1;32m    793\u001b[0m     tls_in_tls\u001b[39m=\u001b[39;49mtls_in_tls,\n\u001b[1;32m    794\u001b[0m )\n\u001b[1;32m    796\u001b[0m \u001b[39mtry\u001b[39;00m:\n",
      "File \u001b[0;32m~/Library/Python/3.9/lib/python/site-packages/urllib3/util/ssl_.py:469\u001b[0m, in \u001b[0;36mssl_wrap_socket\u001b[0;34m(sock, keyfile, certfile, cert_reqs, ca_certs, server_hostname, ssl_version, ciphers, ssl_context, ca_cert_dir, key_password, ca_cert_data, tls_in_tls)\u001b[0m\n\u001b[1;32m    467\u001b[0m     \u001b[39mpass\u001b[39;00m\n\u001b[0;32m--> 469\u001b[0m ssl_sock \u001b[39m=\u001b[39m _ssl_wrap_socket_impl(sock, context, tls_in_tls, server_hostname)\n\u001b[1;32m    470\u001b[0m \u001b[39mreturn\u001b[39;00m ssl_sock\n",
      "File \u001b[0;32m~/Library/Python/3.9/lib/python/site-packages/urllib3/util/ssl_.py:513\u001b[0m, in \u001b[0;36m_ssl_wrap_socket_impl\u001b[0;34m(sock, ssl_context, tls_in_tls, server_hostname)\u001b[0m\n\u001b[1;32m    511\u001b[0m     \u001b[39mreturn\u001b[39;00m SSLTransport(sock, ssl_context, server_hostname)\n\u001b[0;32m--> 513\u001b[0m \u001b[39mreturn\u001b[39;00m ssl_context\u001b[39m.\u001b[39;49mwrap_socket(sock, server_hostname\u001b[39m=\u001b[39;49mserver_hostname)\n",
      "File \u001b[0;32m/Library/Developer/CommandLineTools/Library/Frameworks/Python3.framework/Versions/3.9/lib/python3.9/ssl.py:500\u001b[0m, in \u001b[0;36mSSLContext.wrap_socket\u001b[0;34m(self, sock, server_side, do_handshake_on_connect, suppress_ragged_eofs, server_hostname, session)\u001b[0m\n\u001b[1;32m    494\u001b[0m \u001b[39mdef\u001b[39;00m \u001b[39mwrap_socket\u001b[39m(\u001b[39mself\u001b[39m, sock, server_side\u001b[39m=\u001b[39m\u001b[39mFalse\u001b[39;00m,\n\u001b[1;32m    495\u001b[0m                 do_handshake_on_connect\u001b[39m=\u001b[39m\u001b[39mTrue\u001b[39;00m,\n\u001b[1;32m    496\u001b[0m                 suppress_ragged_eofs\u001b[39m=\u001b[39m\u001b[39mTrue\u001b[39;00m,\n\u001b[1;32m    497\u001b[0m                 server_hostname\u001b[39m=\u001b[39m\u001b[39mNone\u001b[39;00m, session\u001b[39m=\u001b[39m\u001b[39mNone\u001b[39;00m):\n\u001b[1;32m    498\u001b[0m     \u001b[39m# SSLSocket class handles server_hostname encoding before it calls\u001b[39;00m\n\u001b[1;32m    499\u001b[0m     \u001b[39m# ctx._wrap_socket()\u001b[39;00m\n\u001b[0;32m--> 500\u001b[0m     \u001b[39mreturn\u001b[39;00m \u001b[39mself\u001b[39;49m\u001b[39m.\u001b[39;49msslsocket_class\u001b[39m.\u001b[39;49m_create(\n\u001b[1;32m    501\u001b[0m         sock\u001b[39m=\u001b[39;49msock,\n\u001b[1;32m    502\u001b[0m         server_side\u001b[39m=\u001b[39;49mserver_side,\n\u001b[1;32m    503\u001b[0m         do_handshake_on_connect\u001b[39m=\u001b[39;49mdo_handshake_on_connect,\n\u001b[1;32m    504\u001b[0m         suppress_ragged_eofs\u001b[39m=\u001b[39;49msuppress_ragged_eofs,\n\u001b[1;32m    505\u001b[0m         server_hostname\u001b[39m=\u001b[39;49mserver_hostname,\n\u001b[1;32m    506\u001b[0m         context\u001b[39m=\u001b[39;49m\u001b[39mself\u001b[39;49m,\n\u001b[1;32m    507\u001b[0m         session\u001b[39m=\u001b[39;49msession\n\u001b[1;32m    508\u001b[0m     )\n",
      "File \u001b[0;32m/Library/Developer/CommandLineTools/Library/Frameworks/Python3.framework/Versions/3.9/lib/python3.9/ssl.py:1040\u001b[0m, in \u001b[0;36mSSLSocket._create\u001b[0;34m(cls, sock, server_side, do_handshake_on_connect, suppress_ragged_eofs, server_hostname, context, session)\u001b[0m\n\u001b[1;32m   1039\u001b[0m             \u001b[39mraise\u001b[39;00m \u001b[39mValueError\u001b[39;00m(\u001b[39m\"\u001b[39m\u001b[39mdo_handshake_on_connect should not be specified for non-blocking sockets\u001b[39m\u001b[39m\"\u001b[39m)\n\u001b[0;32m-> 1040\u001b[0m         \u001b[39mself\u001b[39;49m\u001b[39m.\u001b[39;49mdo_handshake()\n\u001b[1;32m   1041\u001b[0m \u001b[39mexcept\u001b[39;00m (\u001b[39mOSError\u001b[39;00m, \u001b[39mValueError\u001b[39;00m):\n",
      "File \u001b[0;32m/Library/Developer/CommandLineTools/Library/Frameworks/Python3.framework/Versions/3.9/lib/python3.9/ssl.py:1309\u001b[0m, in \u001b[0;36mSSLSocket.do_handshake\u001b[0;34m(self, block)\u001b[0m\n\u001b[1;32m   1308\u001b[0m         \u001b[39mself\u001b[39m\u001b[39m.\u001b[39msettimeout(\u001b[39mNone\u001b[39;00m)\n\u001b[0;32m-> 1309\u001b[0m     \u001b[39mself\u001b[39;49m\u001b[39m.\u001b[39;49m_sslobj\u001b[39m.\u001b[39;49mdo_handshake()\n\u001b[1;32m   1310\u001b[0m \u001b[39mfinally\u001b[39;00m:\n",
      "\u001b[0;31mSSLCertVerificationError\u001b[0m: [SSL: CERTIFICATE_VERIFY_FAILED] certificate verify failed: unable to get local issuer certificate (_ssl.c:1129)",
      "\nDuring handling of the above exception, another exception occurred:\n",
      "\u001b[0;31mSSLError\u001b[0m                                  Traceback (most recent call last)",
      "File \u001b[0;32m~/Library/Python/3.9/lib/python/site-packages/urllib3/connectionpool.py:790\u001b[0m, in \u001b[0;36mHTTPConnectionPool.urlopen\u001b[0;34m(self, method, url, body, headers, retries, redirect, assert_same_host, timeout, pool_timeout, release_conn, chunked, body_pos, preload_content, decode_content, **response_kw)\u001b[0m\n\u001b[1;32m    789\u001b[0m \u001b[39m# Make the request on the HTTPConnection object\u001b[39;00m\n\u001b[0;32m--> 790\u001b[0m response \u001b[39m=\u001b[39m \u001b[39mself\u001b[39;49m\u001b[39m.\u001b[39;49m_make_request(\n\u001b[1;32m    791\u001b[0m     conn,\n\u001b[1;32m    792\u001b[0m     method,\n\u001b[1;32m    793\u001b[0m     url,\n\u001b[1;32m    794\u001b[0m     timeout\u001b[39m=\u001b[39;49mtimeout_obj,\n\u001b[1;32m    795\u001b[0m     body\u001b[39m=\u001b[39;49mbody,\n\u001b[1;32m    796\u001b[0m     headers\u001b[39m=\u001b[39;49mheaders,\n\u001b[1;32m    797\u001b[0m     chunked\u001b[39m=\u001b[39;49mchunked,\n\u001b[1;32m    798\u001b[0m     retries\u001b[39m=\u001b[39;49mretries,\n\u001b[1;32m    799\u001b[0m     response_conn\u001b[39m=\u001b[39;49mresponse_conn,\n\u001b[1;32m    800\u001b[0m     preload_content\u001b[39m=\u001b[39;49mpreload_content,\n\u001b[1;32m    801\u001b[0m     decode_content\u001b[39m=\u001b[39;49mdecode_content,\n\u001b[1;32m    802\u001b[0m     \u001b[39m*\u001b[39;49m\u001b[39m*\u001b[39;49mresponse_kw,\n\u001b[1;32m    803\u001b[0m )\n\u001b[1;32m    805\u001b[0m \u001b[39m# Everything went great!\u001b[39;00m\n",
      "File \u001b[0;32m~/Library/Python/3.9/lib/python/site-packages/urllib3/connectionpool.py:491\u001b[0m, in \u001b[0;36mHTTPConnectionPool._make_request\u001b[0;34m(self, conn, method, url, body, headers, retries, timeout, chunked, response_conn, preload_content, decode_content, enforce_content_length)\u001b[0m\n\u001b[1;32m    490\u001b[0m         new_e \u001b[39m=\u001b[39m _wrap_proxy_error(new_e, conn\u001b[39m.\u001b[39mproxy\u001b[39m.\u001b[39mscheme)\n\u001b[0;32m--> 491\u001b[0m     \u001b[39mraise\u001b[39;00m new_e\n\u001b[1;32m    493\u001b[0m \u001b[39m# conn.request() calls http.client.*.request, not the method in\u001b[39;00m\n\u001b[1;32m    494\u001b[0m \u001b[39m# urllib3.request. It also calls makefile (recv) on the socket.\u001b[39;00m\n",
      "\u001b[0;31mSSLError\u001b[0m: [SSL: CERTIFICATE_VERIFY_FAILED] certificate verify failed: unable to get local issuer certificate (_ssl.c:1129)",
      "\nThe above exception was the direct cause of the following exception:\n",
      "\u001b[0;31mMaxRetryError\u001b[0m                             Traceback (most recent call last)",
      "File \u001b[0;32m~/Library/Python/3.9/lib/python/site-packages/requests/adapters.py:486\u001b[0m, in \u001b[0;36mHTTPAdapter.send\u001b[0;34m(self, request, stream, timeout, verify, cert, proxies)\u001b[0m\n\u001b[1;32m    485\u001b[0m \u001b[39mtry\u001b[39;00m:\n\u001b[0;32m--> 486\u001b[0m     resp \u001b[39m=\u001b[39m conn\u001b[39m.\u001b[39;49murlopen(\n\u001b[1;32m    487\u001b[0m         method\u001b[39m=\u001b[39;49mrequest\u001b[39m.\u001b[39;49mmethod,\n\u001b[1;32m    488\u001b[0m         url\u001b[39m=\u001b[39;49murl,\n\u001b[1;32m    489\u001b[0m         body\u001b[39m=\u001b[39;49mrequest\u001b[39m.\u001b[39;49mbody,\n\u001b[1;32m    490\u001b[0m         headers\u001b[39m=\u001b[39;49mrequest\u001b[39m.\u001b[39;49mheaders,\n\u001b[1;32m    491\u001b[0m         redirect\u001b[39m=\u001b[39;49m\u001b[39mFalse\u001b[39;49;00m,\n\u001b[1;32m    492\u001b[0m         assert_same_host\u001b[39m=\u001b[39;49m\u001b[39mFalse\u001b[39;49;00m,\n\u001b[1;32m    493\u001b[0m         preload_content\u001b[39m=\u001b[39;49m\u001b[39mFalse\u001b[39;49;00m,\n\u001b[1;32m    494\u001b[0m         decode_content\u001b[39m=\u001b[39;49m\u001b[39mFalse\u001b[39;49;00m,\n\u001b[1;32m    495\u001b[0m         retries\u001b[39m=\u001b[39;49m\u001b[39mself\u001b[39;49m\u001b[39m.\u001b[39;49mmax_retries,\n\u001b[1;32m    496\u001b[0m         timeout\u001b[39m=\u001b[39;49mtimeout,\n\u001b[1;32m    497\u001b[0m         chunked\u001b[39m=\u001b[39;49mchunked,\n\u001b[1;32m    498\u001b[0m     )\n\u001b[1;32m    500\u001b[0m \u001b[39mexcept\u001b[39;00m (ProtocolError, \u001b[39mOSError\u001b[39;00m) \u001b[39mas\u001b[39;00m err:\n",
      "File \u001b[0;32m~/Library/Python/3.9/lib/python/site-packages/urllib3/connectionpool.py:844\u001b[0m, in \u001b[0;36mHTTPConnectionPool.urlopen\u001b[0;34m(self, method, url, body, headers, retries, redirect, assert_same_host, timeout, pool_timeout, release_conn, chunked, body_pos, preload_content, decode_content, **response_kw)\u001b[0m\n\u001b[1;32m    842\u001b[0m     new_e \u001b[39m=\u001b[39m ProtocolError(\u001b[39m\"\u001b[39m\u001b[39mConnection aborted.\u001b[39m\u001b[39m\"\u001b[39m, new_e)\n\u001b[0;32m--> 844\u001b[0m retries \u001b[39m=\u001b[39m retries\u001b[39m.\u001b[39;49mincrement(\n\u001b[1;32m    845\u001b[0m     method, url, error\u001b[39m=\u001b[39;49mnew_e, _pool\u001b[39m=\u001b[39;49m\u001b[39mself\u001b[39;49m, _stacktrace\u001b[39m=\u001b[39;49msys\u001b[39m.\u001b[39;49mexc_info()[\u001b[39m2\u001b[39;49m]\n\u001b[1;32m    846\u001b[0m )\n\u001b[1;32m    847\u001b[0m retries\u001b[39m.\u001b[39msleep()\n",
      "File \u001b[0;32m~/Library/Python/3.9/lib/python/site-packages/urllib3/util/retry.py:515\u001b[0m, in \u001b[0;36mRetry.increment\u001b[0;34m(self, method, url, response, error, _pool, _stacktrace)\u001b[0m\n\u001b[1;32m    514\u001b[0m     reason \u001b[39m=\u001b[39m error \u001b[39mor\u001b[39;00m ResponseError(cause)\n\u001b[0;32m--> 515\u001b[0m     \u001b[39mraise\u001b[39;00m MaxRetryError(_pool, url, reason) \u001b[39mfrom\u001b[39;00m \u001b[39mreason\u001b[39;00m  \u001b[39m# type: ignore[arg-type]\u001b[39;00m\n\u001b[1;32m    517\u001b[0m log\u001b[39m.\u001b[39mdebug(\u001b[39m\"\u001b[39m\u001b[39mIncremented Retry for (url=\u001b[39m\u001b[39m'\u001b[39m\u001b[39m%s\u001b[39;00m\u001b[39m'\u001b[39m\u001b[39m): \u001b[39m\u001b[39m%r\u001b[39;00m\u001b[39m\"\u001b[39m, url, new_retry)\n",
      "\u001b[0;31mMaxRetryError\u001b[0m: HTTPSConnectionPool(host='www.basketball-reference.com', port=443): Max retries exceeded with url: /awards/awards_1991.html (Caused by SSLError(SSLCertVerificationError(1, '[SSL: CERTIFICATE_VERIFY_FAILED] certificate verify failed: unable to get local issuer certificate (_ssl.c:1129)')))",
      "\nDuring handling of the above exception, another exception occurred:\n",
      "\u001b[0;31mSSLError\u001b[0m                                  Traceback (most recent call last)",
      "Cell \u001b[0;32mIn[8], line 3\u001b[0m\n\u001b[1;32m      1\u001b[0m \u001b[39mfor\u001b[39;00m year \u001b[39min\u001b[39;00m years:\n\u001b[1;32m      2\u001b[0m   url \u001b[39m=\u001b[39m url_start\u001b[39m.\u001b[39mformat(year)\n\u001b[0;32m----> 3\u001b[0m   data \u001b[39m=\u001b[39m requests\u001b[39m.\u001b[39;49mget(url)\n\u001b[1;32m      5\u001b[0m   \u001b[39mwith\u001b[39;00m \u001b[39mopen\u001b[39m(\u001b[39m\"\u001b[39m\u001b[39mmvp/\u001b[39m\u001b[39m{}\u001b[39;00m\u001b[39m.html\u001b[39m\u001b[39m\"\u001b[39m\u001b[39m.\u001b[39mformat(year), \u001b[39m\"\u001b[39m\u001b[39mw+\u001b[39m\u001b[39m\"\u001b[39m) \u001b[39mas\u001b[39;00m f:\n\u001b[1;32m      6\u001b[0m     f\u001b[39m.\u001b[39mwrite(data\u001b[39m.\u001b[39mtext)\n",
      "File \u001b[0;32m~/Library/Python/3.9/lib/python/site-packages/requests/api.py:73\u001b[0m, in \u001b[0;36mget\u001b[0;34m(url, params, **kwargs)\u001b[0m\n\u001b[1;32m     62\u001b[0m \u001b[39mdef\u001b[39;00m \u001b[39mget\u001b[39m(url, params\u001b[39m=\u001b[39m\u001b[39mNone\u001b[39;00m, \u001b[39m*\u001b[39m\u001b[39m*\u001b[39mkwargs):\n\u001b[1;32m     63\u001b[0m \u001b[39m    \u001b[39m\u001b[39mr\u001b[39m\u001b[39m\"\"\"Sends a GET request.\u001b[39;00m\n\u001b[1;32m     64\u001b[0m \n\u001b[1;32m     65\u001b[0m \u001b[39m    :param url: URL for the new :class:`Request` object.\u001b[39;00m\n\u001b[0;32m   (...)\u001b[0m\n\u001b[1;32m     70\u001b[0m \u001b[39m    :rtype: requests.Response\u001b[39;00m\n\u001b[1;32m     71\u001b[0m \u001b[39m    \"\"\"\u001b[39;00m\n\u001b[0;32m---> 73\u001b[0m     \u001b[39mreturn\u001b[39;00m request(\u001b[39m\"\u001b[39;49m\u001b[39mget\u001b[39;49m\u001b[39m\"\u001b[39;49m, url, params\u001b[39m=\u001b[39;49mparams, \u001b[39m*\u001b[39;49m\u001b[39m*\u001b[39;49mkwargs)\n",
      "File \u001b[0;32m~/Library/Python/3.9/lib/python/site-packages/requests/api.py:59\u001b[0m, in \u001b[0;36mrequest\u001b[0;34m(method, url, **kwargs)\u001b[0m\n\u001b[1;32m     55\u001b[0m \u001b[39m# By using the 'with' statement we are sure the session is closed, thus we\u001b[39;00m\n\u001b[1;32m     56\u001b[0m \u001b[39m# avoid leaving sockets open which can trigger a ResourceWarning in some\u001b[39;00m\n\u001b[1;32m     57\u001b[0m \u001b[39m# cases, and look like a memory leak in others.\u001b[39;00m\n\u001b[1;32m     58\u001b[0m \u001b[39mwith\u001b[39;00m sessions\u001b[39m.\u001b[39mSession() \u001b[39mas\u001b[39;00m session:\n\u001b[0;32m---> 59\u001b[0m     \u001b[39mreturn\u001b[39;00m session\u001b[39m.\u001b[39;49mrequest(method\u001b[39m=\u001b[39;49mmethod, url\u001b[39m=\u001b[39;49murl, \u001b[39m*\u001b[39;49m\u001b[39m*\u001b[39;49mkwargs)\n",
      "File \u001b[0;32m~/Library/Python/3.9/lib/python/site-packages/requests/sessions.py:589\u001b[0m, in \u001b[0;36mSession.request\u001b[0;34m(self, method, url, params, data, headers, cookies, files, auth, timeout, allow_redirects, proxies, hooks, stream, verify, cert, json)\u001b[0m\n\u001b[1;32m    584\u001b[0m send_kwargs \u001b[39m=\u001b[39m {\n\u001b[1;32m    585\u001b[0m     \u001b[39m\"\u001b[39m\u001b[39mtimeout\u001b[39m\u001b[39m\"\u001b[39m: timeout,\n\u001b[1;32m    586\u001b[0m     \u001b[39m\"\u001b[39m\u001b[39mallow_redirects\u001b[39m\u001b[39m\"\u001b[39m: allow_redirects,\n\u001b[1;32m    587\u001b[0m }\n\u001b[1;32m    588\u001b[0m send_kwargs\u001b[39m.\u001b[39mupdate(settings)\n\u001b[0;32m--> 589\u001b[0m resp \u001b[39m=\u001b[39m \u001b[39mself\u001b[39;49m\u001b[39m.\u001b[39;49msend(prep, \u001b[39m*\u001b[39;49m\u001b[39m*\u001b[39;49msend_kwargs)\n\u001b[1;32m    591\u001b[0m \u001b[39mreturn\u001b[39;00m resp\n",
      "File \u001b[0;32m~/Library/Python/3.9/lib/python/site-packages/requests/sessions.py:703\u001b[0m, in \u001b[0;36mSession.send\u001b[0;34m(self, request, **kwargs)\u001b[0m\n\u001b[1;32m    700\u001b[0m start \u001b[39m=\u001b[39m preferred_clock()\n\u001b[1;32m    702\u001b[0m \u001b[39m# Send the request\u001b[39;00m\n\u001b[0;32m--> 703\u001b[0m r \u001b[39m=\u001b[39m adapter\u001b[39m.\u001b[39;49msend(request, \u001b[39m*\u001b[39;49m\u001b[39m*\u001b[39;49mkwargs)\n\u001b[1;32m    705\u001b[0m \u001b[39m# Total elapsed time of the request (approximately)\u001b[39;00m\n\u001b[1;32m    706\u001b[0m elapsed \u001b[39m=\u001b[39m preferred_clock() \u001b[39m-\u001b[39m start\n",
      "File \u001b[0;32m~/Library/Python/3.9/lib/python/site-packages/requests/adapters.py:517\u001b[0m, in \u001b[0;36mHTTPAdapter.send\u001b[0;34m(self, request, stream, timeout, verify, cert, proxies)\u001b[0m\n\u001b[1;32m    513\u001b[0m         \u001b[39mraise\u001b[39;00m ProxyError(e, request\u001b[39m=\u001b[39mrequest)\n\u001b[1;32m    515\u001b[0m     \u001b[39mif\u001b[39;00m \u001b[39misinstance\u001b[39m(e\u001b[39m.\u001b[39mreason, _SSLError):\n\u001b[1;32m    516\u001b[0m         \u001b[39m# This branch is for urllib3 v1.22 and later.\u001b[39;00m\n\u001b[0;32m--> 517\u001b[0m         \u001b[39mraise\u001b[39;00m SSLError(e, request\u001b[39m=\u001b[39mrequest)\n\u001b[1;32m    519\u001b[0m     \u001b[39mraise\u001b[39;00m \u001b[39mConnectionError\u001b[39;00m(e, request\u001b[39m=\u001b[39mrequest)\n\u001b[1;32m    521\u001b[0m \u001b[39mexcept\u001b[39;00m ClosedPoolError \u001b[39mas\u001b[39;00m e:\n",
      "\u001b[0;31mSSLError\u001b[0m: HTTPSConnectionPool(host='www.basketball-reference.com', port=443): Max retries exceeded with url: /awards/awards_1991.html (Caused by SSLError(SSLCertVerificationError(1, '[SSL: CERTIFICATE_VERIFY_FAILED] certificate verify failed: unable to get local issuer certificate (_ssl.c:1129)')))"
     ]
    }
   ],
   "source": [
    "for year in years:\n",
    "  url = url_start.format(year)\n",
    "  data = requests.get(url)\n",
    "\n",
    "  with open(\"mvp/{}.html\".format(year), \"w+\") as f:\n",
    "    f.write(data.text)"
   ]
  },
  {
   "cell_type": "code",
   "execution_count": null,
   "metadata": {},
   "outputs": [
    {
     "name": "stderr",
     "output_type": "stream",
     "text": [
      "/var/folders/52/jn4lzncn1yb05fn9t893vkf00000gn/T/ipykernel_32458/1459850599.py:8: FutureWarning: Passing literal html to 'read_html' is deprecated and will be removed in a future version. To read from a literal string, wrap it in a 'StringIO' object.\n",
      "  mvp_all = pd.read_html(str(mvp_table))[0]\n",
      "/var/folders/52/jn4lzncn1yb05fn9t893vkf00000gn/T/ipykernel_32458/1459850599.py:8: FutureWarning: Passing literal html to 'read_html' is deprecated and will be removed in a future version. To read from a literal string, wrap it in a 'StringIO' object.\n",
      "  mvp_all = pd.read_html(str(mvp_table))[0]\n",
      "/var/folders/52/jn4lzncn1yb05fn9t893vkf00000gn/T/ipykernel_32458/1459850599.py:8: FutureWarning: Passing literal html to 'read_html' is deprecated and will be removed in a future version. To read from a literal string, wrap it in a 'StringIO' object.\n",
      "  mvp_all = pd.read_html(str(mvp_table))[0]\n",
      "/var/folders/52/jn4lzncn1yb05fn9t893vkf00000gn/T/ipykernel_32458/1459850599.py:8: FutureWarning: Passing literal html to 'read_html' is deprecated and will be removed in a future version. To read from a literal string, wrap it in a 'StringIO' object.\n",
      "  mvp_all = pd.read_html(str(mvp_table))[0]\n",
      "/var/folders/52/jn4lzncn1yb05fn9t893vkf00000gn/T/ipykernel_32458/1459850599.py:8: FutureWarning: Passing literal html to 'read_html' is deprecated and will be removed in a future version. To read from a literal string, wrap it in a 'StringIO' object.\n",
      "  mvp_all = pd.read_html(str(mvp_table))[0]\n",
      "/var/folders/52/jn4lzncn1yb05fn9t893vkf00000gn/T/ipykernel_32458/1459850599.py:8: FutureWarning: Passing literal html to 'read_html' is deprecated and will be removed in a future version. To read from a literal string, wrap it in a 'StringIO' object.\n",
      "  mvp_all = pd.read_html(str(mvp_table))[0]\n",
      "/var/folders/52/jn4lzncn1yb05fn9t893vkf00000gn/T/ipykernel_32458/1459850599.py:8: FutureWarning: Passing literal html to 'read_html' is deprecated and will be removed in a future version. To read from a literal string, wrap it in a 'StringIO' object.\n",
      "  mvp_all = pd.read_html(str(mvp_table))[0]\n",
      "/var/folders/52/jn4lzncn1yb05fn9t893vkf00000gn/T/ipykernel_32458/1459850599.py:8: FutureWarning: Passing literal html to 'read_html' is deprecated and will be removed in a future version. To read from a literal string, wrap it in a 'StringIO' object.\n",
      "  mvp_all = pd.read_html(str(mvp_table))[0]\n",
      "/var/folders/52/jn4lzncn1yb05fn9t893vkf00000gn/T/ipykernel_32458/1459850599.py:8: FutureWarning: Passing literal html to 'read_html' is deprecated and will be removed in a future version. To read from a literal string, wrap it in a 'StringIO' object.\n",
      "  mvp_all = pd.read_html(str(mvp_table))[0]\n",
      "/var/folders/52/jn4lzncn1yb05fn9t893vkf00000gn/T/ipykernel_32458/1459850599.py:8: FutureWarning: Passing literal html to 'read_html' is deprecated and will be removed in a future version. To read from a literal string, wrap it in a 'StringIO' object.\n",
      "  mvp_all = pd.read_html(str(mvp_table))[0]\n",
      "/var/folders/52/jn4lzncn1yb05fn9t893vkf00000gn/T/ipykernel_32458/1459850599.py:8: FutureWarning: Passing literal html to 'read_html' is deprecated and will be removed in a future version. To read from a literal string, wrap it in a 'StringIO' object.\n",
      "  mvp_all = pd.read_html(str(mvp_table))[0]\n",
      "/var/folders/52/jn4lzncn1yb05fn9t893vkf00000gn/T/ipykernel_32458/1459850599.py:8: FutureWarning: Passing literal html to 'read_html' is deprecated and will be removed in a future version. To read from a literal string, wrap it in a 'StringIO' object.\n",
      "  mvp_all = pd.read_html(str(mvp_table))[0]\n",
      "/var/folders/52/jn4lzncn1yb05fn9t893vkf00000gn/T/ipykernel_32458/1459850599.py:8: FutureWarning: Passing literal html to 'read_html' is deprecated and will be removed in a future version. To read from a literal string, wrap it in a 'StringIO' object.\n",
      "  mvp_all = pd.read_html(str(mvp_table))[0]\n",
      "/var/folders/52/jn4lzncn1yb05fn9t893vkf00000gn/T/ipykernel_32458/1459850599.py:8: FutureWarning: Passing literal html to 'read_html' is deprecated and will be removed in a future version. To read from a literal string, wrap it in a 'StringIO' object.\n",
      "  mvp_all = pd.read_html(str(mvp_table))[0]\n",
      "/var/folders/52/jn4lzncn1yb05fn9t893vkf00000gn/T/ipykernel_32458/1459850599.py:8: FutureWarning: Passing literal html to 'read_html' is deprecated and will be removed in a future version. To read from a literal string, wrap it in a 'StringIO' object.\n",
      "  mvp_all = pd.read_html(str(mvp_table))[0]\n",
      "/var/folders/52/jn4lzncn1yb05fn9t893vkf00000gn/T/ipykernel_32458/1459850599.py:8: FutureWarning: Passing literal html to 'read_html' is deprecated and will be removed in a future version. To read from a literal string, wrap it in a 'StringIO' object.\n",
      "  mvp_all = pd.read_html(str(mvp_table))[0]\n",
      "/var/folders/52/jn4lzncn1yb05fn9t893vkf00000gn/T/ipykernel_32458/1459850599.py:8: FutureWarning: Passing literal html to 'read_html' is deprecated and will be removed in a future version. To read from a literal string, wrap it in a 'StringIO' object.\n",
      "  mvp_all = pd.read_html(str(mvp_table))[0]\n",
      "/var/folders/52/jn4lzncn1yb05fn9t893vkf00000gn/T/ipykernel_32458/1459850599.py:8: FutureWarning: Passing literal html to 'read_html' is deprecated and will be removed in a future version. To read from a literal string, wrap it in a 'StringIO' object.\n",
      "  mvp_all = pd.read_html(str(mvp_table))[0]\n",
      "/var/folders/52/jn4lzncn1yb05fn9t893vkf00000gn/T/ipykernel_32458/1459850599.py:8: FutureWarning: Passing literal html to 'read_html' is deprecated and will be removed in a future version. To read from a literal string, wrap it in a 'StringIO' object.\n",
      "  mvp_all = pd.read_html(str(mvp_table))[0]\n",
      "/var/folders/52/jn4lzncn1yb05fn9t893vkf00000gn/T/ipykernel_32458/1459850599.py:8: FutureWarning: Passing literal html to 'read_html' is deprecated and will be removed in a future version. To read from a literal string, wrap it in a 'StringIO' object.\n",
      "  mvp_all = pd.read_html(str(mvp_table))[0]\n",
      "/var/folders/52/jn4lzncn1yb05fn9t893vkf00000gn/T/ipykernel_32458/1459850599.py:8: FutureWarning: Passing literal html to 'read_html' is deprecated and will be removed in a future version. To read from a literal string, wrap it in a 'StringIO' object.\n",
      "  mvp_all = pd.read_html(str(mvp_table))[0]\n",
      "/var/folders/52/jn4lzncn1yb05fn9t893vkf00000gn/T/ipykernel_32458/1459850599.py:8: FutureWarning: Passing literal html to 'read_html' is deprecated and will be removed in a future version. To read from a literal string, wrap it in a 'StringIO' object.\n",
      "  mvp_all = pd.read_html(str(mvp_table))[0]\n",
      "/var/folders/52/jn4lzncn1yb05fn9t893vkf00000gn/T/ipykernel_32458/1459850599.py:8: FutureWarning: Passing literal html to 'read_html' is deprecated and will be removed in a future version. To read from a literal string, wrap it in a 'StringIO' object.\n",
      "  mvp_all = pd.read_html(str(mvp_table))[0]\n",
      "/var/folders/52/jn4lzncn1yb05fn9t893vkf00000gn/T/ipykernel_32458/1459850599.py:8: FutureWarning: Passing literal html to 'read_html' is deprecated and will be removed in a future version. To read from a literal string, wrap it in a 'StringIO' object.\n",
      "  mvp_all = pd.read_html(str(mvp_table))[0]\n",
      "/var/folders/52/jn4lzncn1yb05fn9t893vkf00000gn/T/ipykernel_32458/1459850599.py:8: FutureWarning: Passing literal html to 'read_html' is deprecated and will be removed in a future version. To read from a literal string, wrap it in a 'StringIO' object.\n",
      "  mvp_all = pd.read_html(str(mvp_table))[0]\n",
      "/var/folders/52/jn4lzncn1yb05fn9t893vkf00000gn/T/ipykernel_32458/1459850599.py:8: FutureWarning: Passing literal html to 'read_html' is deprecated and will be removed in a future version. To read from a literal string, wrap it in a 'StringIO' object.\n",
      "  mvp_all = pd.read_html(str(mvp_table))[0]\n",
      "/var/folders/52/jn4lzncn1yb05fn9t893vkf00000gn/T/ipykernel_32458/1459850599.py:8: FutureWarning: Passing literal html to 'read_html' is deprecated and will be removed in a future version. To read from a literal string, wrap it in a 'StringIO' object.\n",
      "  mvp_all = pd.read_html(str(mvp_table))[0]\n",
      "/var/folders/52/jn4lzncn1yb05fn9t893vkf00000gn/T/ipykernel_32458/1459850599.py:8: FutureWarning: Passing literal html to 'read_html' is deprecated and will be removed in a future version. To read from a literal string, wrap it in a 'StringIO' object.\n",
      "  mvp_all = pd.read_html(str(mvp_table))[0]\n",
      "/var/folders/52/jn4lzncn1yb05fn9t893vkf00000gn/T/ipykernel_32458/1459850599.py:8: FutureWarning: Passing literal html to 'read_html' is deprecated and will be removed in a future version. To read from a literal string, wrap it in a 'StringIO' object.\n",
      "  mvp_all = pd.read_html(str(mvp_table))[0]\n",
      "/var/folders/52/jn4lzncn1yb05fn9t893vkf00000gn/T/ipykernel_32458/1459850599.py:8: FutureWarning: Passing literal html to 'read_html' is deprecated and will be removed in a future version. To read from a literal string, wrap it in a 'StringIO' object.\n",
      "  mvp_all = pd.read_html(str(mvp_table))[0]\n"
     ]
    }
   ],
   "source": [
    "dfs=[]\n",
    "for year in years:\n",
    "  with open(\"mvp/{}.html\".format(year)) as f:\n",
    "    page = f.read()\n",
    "  soup = BeautifulSoup(page, 'html.parser')\n",
    "  soup.find('tr', class_= 'over_header').decompose()\n",
    "  mvp_table = soup.find('table', id='mvp')\n",
    "  mvp_all = pd.read_html(str(mvp_table))[0]\n",
    "  mvp_all['Year'] = year\n",
    "  dfs.append(mvp_all)\n",
    "\n"
   ]
  },
  {
   "cell_type": "code",
   "execution_count": 9,
   "metadata": {},
   "outputs": [
    {
     "ename": "NameError",
     "evalue": "name 'dfs' is not defined",
     "output_type": "error",
     "traceback": [
      "\u001b[0;31m---------------------------------------------------------------------------\u001b[0m",
      "\u001b[0;31mNameError\u001b[0m                                 Traceback (most recent call last)",
      "Cell \u001b[0;32mIn[9], line 1\u001b[0m\n\u001b[0;32m----> 1\u001b[0m dfs\u001b[39m.\u001b[39mappend(df_2021)\n\u001b[1;32m      2\u001b[0m dfs\u001b[39m.\u001b[39mappend(df_2022)\n\u001b[1;32m      3\u001b[0m dfs\u001b[39m.\u001b[39mappend(df_2023)\n",
      "\u001b[0;31mNameError\u001b[0m: name 'dfs' is not defined"
     ]
    }
   ],
   "source": [
    "dfs.append(df_2021)\n",
    "dfs.append(df_2022)\n",
    "dfs.append(df_2023)"
   ]
  },
  {
   "cell_type": "code",
   "execution_count": 12,
   "metadata": {},
   "outputs": [],
   "source": [
    "mvp_votes = pd.concat(dfs)"
   ]
  },
  {
   "attachments": {},
   "cell_type": "markdown",
   "metadata": {},
   "source": [
    "### WEBSCRAPING PLAYER DATA "
   ]
  },
  {
   "cell_type": "code",
   "execution_count": 1,
   "metadata": {},
   "outputs": [
    {
     "name": "stderr",
     "output_type": "stream",
     "text": [
      "/Users/test/Library/Python/3.9/lib/python/site-packages/urllib3/__init__.py:34: NotOpenSSLWarning: urllib3 v2.0 only supports OpenSSL 1.1.1+, currently the 'ssl' module is compiled with 'LibreSSL 2.8.3'. See: https://github.com/urllib3/urllib3/issues/3020\n",
      "  warnings.warn(\n"
     ]
    }
   ],
   "source": [
    "from selenium import webdriver"
   ]
  },
  {
   "cell_type": "code",
   "execution_count": 2,
   "metadata": {},
   "outputs": [],
   "source": [
    "#Initialising chrome driver\n",
    "driver = webdriver.Chrome()"
   ]
  },
  {
   "cell_type": "code",
   "execution_count": 3,
   "metadata": {},
   "outputs": [
    {
     "ename": "NoSuchWindowException",
     "evalue": "Message: no such window: target window already closed\nfrom unknown error: web view not found\n  (Session info: chrome=116.0.5845.187)\nStacktrace:\n0   chromedriver                        0x000000010317e65c chromedriver + 4318812\n1   chromedriver                        0x0000000103176d00 chromedriver + 4287744\n2   chromedriver                        0x0000000102da87ec chromedriver + 296940\n3   chromedriver                        0x0000000102d806e4 chromedriver + 132836\n4   chromedriver                        0x0000000102e0bde4 chromedriver + 703972\n5   chromedriver                        0x0000000102e1e5b8 chromedriver + 779704\n6   chromedriver                        0x0000000102dda178 chromedriver + 500088\n7   chromedriver                        0x0000000102ddafc0 chromedriver + 503744\n8   chromedriver                        0x000000010313ec40 chromedriver + 4058176\n9   chromedriver                        0x0000000103143160 chromedriver + 4075872\n10  chromedriver                        0x0000000103106e68 chromedriver + 3829352\n11  chromedriver                        0x0000000103143c4c chromedriver + 4078668\n12  chromedriver                        0x000000010311bf08 chromedriver + 3915528\n13  chromedriver                        0x0000000103160140 chromedriver + 4194624\n14  chromedriver                        0x00000001031602c4 chromedriver + 4195012\n15  chromedriver                        0x00000001031704d0 chromedriver + 4261072\n16  libsystem_pthread.dylib             0x0000000190f5e06c _pthread_start + 148\n17  libsystem_pthread.dylib             0x0000000190f58e2c thread_start + 8\n",
     "output_type": "error",
     "traceback": [
      "\u001b[0;31m---------------------------------------------------------------------------\u001b[0m",
      "\u001b[0;31mNoSuchWindowException\u001b[0m                     Traceback (most recent call last)",
      "Cell \u001b[0;32mIn[3], line 10\u001b[0m\n\u001b[1;32m      7\u001b[0m url \u001b[39m=\u001b[39m player_stats_url\u001b[39m.\u001b[39mformat(year)\n\u001b[1;32m      9\u001b[0m driver\u001b[39m.\u001b[39mget(url)\n\u001b[0;32m---> 10\u001b[0m driver\u001b[39m.\u001b[39;49mexecute_script(\u001b[39m\"\u001b[39;49m\u001b[39mwindow.scrollTo(1,15000)\u001b[39;49m\u001b[39m\"\u001b[39;49m)\n\u001b[1;32m     11\u001b[0m time\u001b[39m.\u001b[39msleep(\u001b[39m2\u001b[39m)\n\u001b[1;32m     13\u001b[0m html \u001b[39m=\u001b[39m driver\u001b[39m.\u001b[39mpage_source\n",
      "File \u001b[0;32m~/Library/Python/3.9/lib/python/site-packages/selenium/webdriver/remote/webdriver.py:404\u001b[0m, in \u001b[0;36mWebDriver.execute_script\u001b[0;34m(self, script, *args)\u001b[0m\n\u001b[1;32m    401\u001b[0m converted_args \u001b[39m=\u001b[39m \u001b[39mlist\u001b[39m(args)\n\u001b[1;32m    402\u001b[0m command \u001b[39m=\u001b[39m Command\u001b[39m.\u001b[39mW3C_EXECUTE_SCRIPT\n\u001b[0;32m--> 404\u001b[0m \u001b[39mreturn\u001b[39;00m \u001b[39mself\u001b[39;49m\u001b[39m.\u001b[39;49mexecute(command, {\u001b[39m\"\u001b[39;49m\u001b[39mscript\u001b[39;49m\u001b[39m\"\u001b[39;49m: script, \u001b[39m\"\u001b[39;49m\u001b[39margs\u001b[39;49m\u001b[39m\"\u001b[39;49m: converted_args})[\u001b[39m\"\u001b[39m\u001b[39mvalue\u001b[39m\u001b[39m\"\u001b[39m]\n",
      "File \u001b[0;32m~/Library/Python/3.9/lib/python/site-packages/selenium/webdriver/remote/webdriver.py:344\u001b[0m, in \u001b[0;36mWebDriver.execute\u001b[0;34m(self, driver_command, params)\u001b[0m\n\u001b[1;32m    342\u001b[0m response \u001b[39m=\u001b[39m \u001b[39mself\u001b[39m\u001b[39m.\u001b[39mcommand_executor\u001b[39m.\u001b[39mexecute(driver_command, params)\n\u001b[1;32m    343\u001b[0m \u001b[39mif\u001b[39;00m response:\n\u001b[0;32m--> 344\u001b[0m     \u001b[39mself\u001b[39;49m\u001b[39m.\u001b[39;49merror_handler\u001b[39m.\u001b[39;49mcheck_response(response)\n\u001b[1;32m    345\u001b[0m     response[\u001b[39m\"\u001b[39m\u001b[39mvalue\u001b[39m\u001b[39m\"\u001b[39m] \u001b[39m=\u001b[39m \u001b[39mself\u001b[39m\u001b[39m.\u001b[39m_unwrap_value(response\u001b[39m.\u001b[39mget(\u001b[39m\"\u001b[39m\u001b[39mvalue\u001b[39m\u001b[39m\"\u001b[39m, \u001b[39mNone\u001b[39;00m))\n\u001b[1;32m    346\u001b[0m     \u001b[39mreturn\u001b[39;00m response\n",
      "File \u001b[0;32m~/Library/Python/3.9/lib/python/site-packages/selenium/webdriver/remote/errorhandler.py:229\u001b[0m, in \u001b[0;36mErrorHandler.check_response\u001b[0;34m(self, response)\u001b[0m\n\u001b[1;32m    227\u001b[0m         alert_text \u001b[39m=\u001b[39m value[\u001b[39m\"\u001b[39m\u001b[39malert\u001b[39m\u001b[39m\"\u001b[39m]\u001b[39m.\u001b[39mget(\u001b[39m\"\u001b[39m\u001b[39mtext\u001b[39m\u001b[39m\"\u001b[39m)\n\u001b[1;32m    228\u001b[0m     \u001b[39mraise\u001b[39;00m exception_class(message, screen, stacktrace, alert_text)  \u001b[39m# type: ignore[call-arg]  # mypy is not smart enough here\u001b[39;00m\n\u001b[0;32m--> 229\u001b[0m \u001b[39mraise\u001b[39;00m exception_class(message, screen, stacktrace)\n",
      "\u001b[0;31mNoSuchWindowException\u001b[0m: Message: no such window: target window already closed\nfrom unknown error: web view not found\n  (Session info: chrome=116.0.5845.187)\nStacktrace:\n0   chromedriver                        0x000000010317e65c chromedriver + 4318812\n1   chromedriver                        0x0000000103176d00 chromedriver + 4287744\n2   chromedriver                        0x0000000102da87ec chromedriver + 296940\n3   chromedriver                        0x0000000102d806e4 chromedriver + 132836\n4   chromedriver                        0x0000000102e0bde4 chromedriver + 703972\n5   chromedriver                        0x0000000102e1e5b8 chromedriver + 779704\n6   chromedriver                        0x0000000102dda178 chromedriver + 500088\n7   chromedriver                        0x0000000102ddafc0 chromedriver + 503744\n8   chromedriver                        0x000000010313ec40 chromedriver + 4058176\n9   chromedriver                        0x0000000103143160 chromedriver + 4075872\n10  chromedriver                        0x0000000103106e68 chromedriver + 3829352\n11  chromedriver                        0x0000000103143c4c chromedriver + 4078668\n12  chromedriver                        0x000000010311bf08 chromedriver + 3915528\n13  chromedriver                        0x0000000103160140 chromedriver + 4194624\n14  chromedriver                        0x00000001031602c4 chromedriver + 4195012\n15  chromedriver                        0x00000001031704d0 chromedriver + 4261072\n16  libsystem_pthread.dylib             0x0000000190f5e06c _pthread_start + 148\n17  libsystem_pthread.dylib             0x0000000190f58e2c thread_start + 8\n"
     ]
    }
   ],
   "source": [
    "#Webscraping data from website a\n",
    "import time\n",
    "years = range(1991,2024)\n",
    "player_stats_url = 'https://www.basketball-reference.com/leagues/NBA_{}_per_game.html'\n",
    "for year in years:\n",
    "\n",
    "    url = player_stats_url.format(year)\n",
    "\n",
    "    driver.get(url)\n",
    "    driver.execute_script(\"window.scrollTo(1,15000)\")\n",
    "    time.sleep(2)\n",
    "\n",
    "    html = driver.page_source\n",
    "    #saving the data in files in saved folder as html files\"\n",
    "    with open('player/{}.html'.format(year),'w+') as f:\n",
    "        f.write(html)\n",
    "\n"
   ]
  },
  {
   "cell_type": "code",
   "execution_count": 6,
   "metadata": {},
   "outputs": [
    {
     "name": "stderr",
     "output_type": "stream",
     "text": [
      "/var/folders/52/jn4lzncn1yb05fn9t893vkf00000gn/T/ipykernel_85638/740391937.py:10: FutureWarning: Passing literal html to 'read_html' is deprecated and will be removed in a future version. To read from a literal string, wrap it in a 'StringIO' object.\n",
      "  player = pd.read_html(str(player_table))[0]\n",
      "/var/folders/52/jn4lzncn1yb05fn9t893vkf00000gn/T/ipykernel_85638/740391937.py:10: FutureWarning: Passing literal html to 'read_html' is deprecated and will be removed in a future version. To read from a literal string, wrap it in a 'StringIO' object.\n",
      "  player = pd.read_html(str(player_table))[0]\n",
      "/var/folders/52/jn4lzncn1yb05fn9t893vkf00000gn/T/ipykernel_85638/740391937.py:10: FutureWarning: Passing literal html to 'read_html' is deprecated and will be removed in a future version. To read from a literal string, wrap it in a 'StringIO' object.\n",
      "  player = pd.read_html(str(player_table))[0]\n",
      "/var/folders/52/jn4lzncn1yb05fn9t893vkf00000gn/T/ipykernel_85638/740391937.py:10: FutureWarning: Passing literal html to 'read_html' is deprecated and will be removed in a future version. To read from a literal string, wrap it in a 'StringIO' object.\n",
      "  player = pd.read_html(str(player_table))[0]\n",
      "/var/folders/52/jn4lzncn1yb05fn9t893vkf00000gn/T/ipykernel_85638/740391937.py:10: FutureWarning: Passing literal html to 'read_html' is deprecated and will be removed in a future version. To read from a literal string, wrap it in a 'StringIO' object.\n",
      "  player = pd.read_html(str(player_table))[0]\n",
      "/var/folders/52/jn4lzncn1yb05fn9t893vkf00000gn/T/ipykernel_85638/740391937.py:10: FutureWarning: Passing literal html to 'read_html' is deprecated and will be removed in a future version. To read from a literal string, wrap it in a 'StringIO' object.\n",
      "  player = pd.read_html(str(player_table))[0]\n",
      "/var/folders/52/jn4lzncn1yb05fn9t893vkf00000gn/T/ipykernel_85638/740391937.py:10: FutureWarning: Passing literal html to 'read_html' is deprecated and will be removed in a future version. To read from a literal string, wrap it in a 'StringIO' object.\n",
      "  player = pd.read_html(str(player_table))[0]\n",
      "/var/folders/52/jn4lzncn1yb05fn9t893vkf00000gn/T/ipykernel_85638/740391937.py:10: FutureWarning: Passing literal html to 'read_html' is deprecated and will be removed in a future version. To read from a literal string, wrap it in a 'StringIO' object.\n",
      "  player = pd.read_html(str(player_table))[0]\n",
      "/var/folders/52/jn4lzncn1yb05fn9t893vkf00000gn/T/ipykernel_85638/740391937.py:10: FutureWarning: Passing literal html to 'read_html' is deprecated and will be removed in a future version. To read from a literal string, wrap it in a 'StringIO' object.\n",
      "  player = pd.read_html(str(player_table))[0]\n",
      "/var/folders/52/jn4lzncn1yb05fn9t893vkf00000gn/T/ipykernel_85638/740391937.py:10: FutureWarning: Passing literal html to 'read_html' is deprecated and will be removed in a future version. To read from a literal string, wrap it in a 'StringIO' object.\n",
      "  player = pd.read_html(str(player_table))[0]\n",
      "/var/folders/52/jn4lzncn1yb05fn9t893vkf00000gn/T/ipykernel_85638/740391937.py:10: FutureWarning: Passing literal html to 'read_html' is deprecated and will be removed in a future version. To read from a literal string, wrap it in a 'StringIO' object.\n",
      "  player = pd.read_html(str(player_table))[0]\n",
      "/var/folders/52/jn4lzncn1yb05fn9t893vkf00000gn/T/ipykernel_85638/740391937.py:10: FutureWarning: Passing literal html to 'read_html' is deprecated and will be removed in a future version. To read from a literal string, wrap it in a 'StringIO' object.\n",
      "  player = pd.read_html(str(player_table))[0]\n",
      "/var/folders/52/jn4lzncn1yb05fn9t893vkf00000gn/T/ipykernel_85638/740391937.py:10: FutureWarning: Passing literal html to 'read_html' is deprecated and will be removed in a future version. To read from a literal string, wrap it in a 'StringIO' object.\n",
      "  player = pd.read_html(str(player_table))[0]\n",
      "/var/folders/52/jn4lzncn1yb05fn9t893vkf00000gn/T/ipykernel_85638/740391937.py:10: FutureWarning: Passing literal html to 'read_html' is deprecated and will be removed in a future version. To read from a literal string, wrap it in a 'StringIO' object.\n",
      "  player = pd.read_html(str(player_table))[0]\n",
      "/var/folders/52/jn4lzncn1yb05fn9t893vkf00000gn/T/ipykernel_85638/740391937.py:10: FutureWarning: Passing literal html to 'read_html' is deprecated and will be removed in a future version. To read from a literal string, wrap it in a 'StringIO' object.\n",
      "  player = pd.read_html(str(player_table))[0]\n",
      "/var/folders/52/jn4lzncn1yb05fn9t893vkf00000gn/T/ipykernel_85638/740391937.py:10: FutureWarning: Passing literal html to 'read_html' is deprecated and will be removed in a future version. To read from a literal string, wrap it in a 'StringIO' object.\n",
      "  player = pd.read_html(str(player_table))[0]\n",
      "/var/folders/52/jn4lzncn1yb05fn9t893vkf00000gn/T/ipykernel_85638/740391937.py:10: FutureWarning: Passing literal html to 'read_html' is deprecated and will be removed in a future version. To read from a literal string, wrap it in a 'StringIO' object.\n",
      "  player = pd.read_html(str(player_table))[0]\n",
      "/var/folders/52/jn4lzncn1yb05fn9t893vkf00000gn/T/ipykernel_85638/740391937.py:10: FutureWarning: Passing literal html to 'read_html' is deprecated and will be removed in a future version. To read from a literal string, wrap it in a 'StringIO' object.\n",
      "  player = pd.read_html(str(player_table))[0]\n",
      "/var/folders/52/jn4lzncn1yb05fn9t893vkf00000gn/T/ipykernel_85638/740391937.py:10: FutureWarning: Passing literal html to 'read_html' is deprecated and will be removed in a future version. To read from a literal string, wrap it in a 'StringIO' object.\n",
      "  player = pd.read_html(str(player_table))[0]\n",
      "/var/folders/52/jn4lzncn1yb05fn9t893vkf00000gn/T/ipykernel_85638/740391937.py:10: FutureWarning: Passing literal html to 'read_html' is deprecated and will be removed in a future version. To read from a literal string, wrap it in a 'StringIO' object.\n",
      "  player = pd.read_html(str(player_table))[0]\n",
      "/var/folders/52/jn4lzncn1yb05fn9t893vkf00000gn/T/ipykernel_85638/740391937.py:10: FutureWarning: Passing literal html to 'read_html' is deprecated and will be removed in a future version. To read from a literal string, wrap it in a 'StringIO' object.\n",
      "  player = pd.read_html(str(player_table))[0]\n",
      "/var/folders/52/jn4lzncn1yb05fn9t893vkf00000gn/T/ipykernel_85638/740391937.py:10: FutureWarning: Passing literal html to 'read_html' is deprecated and will be removed in a future version. To read from a literal string, wrap it in a 'StringIO' object.\n",
      "  player = pd.read_html(str(player_table))[0]\n",
      "/var/folders/52/jn4lzncn1yb05fn9t893vkf00000gn/T/ipykernel_85638/740391937.py:10: FutureWarning: Passing literal html to 'read_html' is deprecated and will be removed in a future version. To read from a literal string, wrap it in a 'StringIO' object.\n",
      "  player = pd.read_html(str(player_table))[0]\n",
      "/var/folders/52/jn4lzncn1yb05fn9t893vkf00000gn/T/ipykernel_85638/740391937.py:10: FutureWarning: Passing literal html to 'read_html' is deprecated and will be removed in a future version. To read from a literal string, wrap it in a 'StringIO' object.\n",
      "  player = pd.read_html(str(player_table))[0]\n",
      "/var/folders/52/jn4lzncn1yb05fn9t893vkf00000gn/T/ipykernel_85638/740391937.py:10: FutureWarning: Passing literal html to 'read_html' is deprecated and will be removed in a future version. To read from a literal string, wrap it in a 'StringIO' object.\n",
      "  player = pd.read_html(str(player_table))[0]\n",
      "/var/folders/52/jn4lzncn1yb05fn9t893vkf00000gn/T/ipykernel_85638/740391937.py:10: FutureWarning: Passing literal html to 'read_html' is deprecated and will be removed in a future version. To read from a literal string, wrap it in a 'StringIO' object.\n",
      "  player = pd.read_html(str(player_table))[0]\n",
      "/var/folders/52/jn4lzncn1yb05fn9t893vkf00000gn/T/ipykernel_85638/740391937.py:10: FutureWarning: Passing literal html to 'read_html' is deprecated and will be removed in a future version. To read from a literal string, wrap it in a 'StringIO' object.\n",
      "  player = pd.read_html(str(player_table))[0]\n",
      "/var/folders/52/jn4lzncn1yb05fn9t893vkf00000gn/T/ipykernel_85638/740391937.py:10: FutureWarning: Passing literal html to 'read_html' is deprecated and will be removed in a future version. To read from a literal string, wrap it in a 'StringIO' object.\n",
      "  player = pd.read_html(str(player_table))[0]\n",
      "/var/folders/52/jn4lzncn1yb05fn9t893vkf00000gn/T/ipykernel_85638/740391937.py:10: FutureWarning: Passing literal html to 'read_html' is deprecated and will be removed in a future version. To read from a literal string, wrap it in a 'StringIO' object.\n",
      "  player = pd.read_html(str(player_table))[0]\n",
      "/var/folders/52/jn4lzncn1yb05fn9t893vkf00000gn/T/ipykernel_85638/740391937.py:10: FutureWarning: Passing literal html to 'read_html' is deprecated and will be removed in a future version. To read from a literal string, wrap it in a 'StringIO' object.\n",
      "  player = pd.read_html(str(player_table))[0]\n",
      "/var/folders/52/jn4lzncn1yb05fn9t893vkf00000gn/T/ipykernel_85638/740391937.py:10: FutureWarning: Passing literal html to 'read_html' is deprecated and will be removed in a future version. To read from a literal string, wrap it in a 'StringIO' object.\n",
      "  player = pd.read_html(str(player_table))[0]\n",
      "/var/folders/52/jn4lzncn1yb05fn9t893vkf00000gn/T/ipykernel_85638/740391937.py:10: FutureWarning: Passing literal html to 'read_html' is deprecated and will be removed in a future version. To read from a literal string, wrap it in a 'StringIO' object.\n",
      "  player = pd.read_html(str(player_table))[0]\n",
      "/var/folders/52/jn4lzncn1yb05fn9t893vkf00000gn/T/ipykernel_85638/740391937.py:10: FutureWarning: Passing literal html to 'read_html' is deprecated and will be removed in a future version. To read from a literal string, wrap it in a 'StringIO' object.\n",
      "  player = pd.read_html(str(player_table))[0]\n"
     ]
    }
   ],
   "source": [
    "import pandas as pd\n",
    "\n",
    "dfs=[]\n",
    "for year in years:\n",
    "    with open('player/{}.html'.format(year)) as f:\n",
    "        page = f.read()\n",
    "    soup = BeautifulSoup(page, 'html.parser')\n",
    "    soup.find('tr', class_ = 'thead').decompose()\n",
    "    player_table = soup.find(id = 'per_game_stats')\n",
    "    player = pd.read_html(str(player_table))[0]\n",
    "    player['Year'] = year\n",
    "    dfs.append(player)\n",
    "\n"
   ]
  },
  {
   "cell_type": "code",
   "execution_count": 16,
   "metadata": {},
   "outputs": [
    {
     "data": {
      "text/plain": [
       "33"
      ]
     },
     "execution_count": 16,
     "metadata": {},
     "output_type": "execute_result"
    }
   ],
   "source": [
    "len(dfs)"
   ]
  },
  {
   "cell_type": "code",
   "execution_count": 11,
   "metadata": {},
   "outputs": [],
   "source": [
    "players = pd.concat(dfs)"
   ]
  },
  {
   "cell_type": "code",
   "execution_count": 20,
   "metadata": {},
   "outputs": [
    {
     "data": {
      "text/plain": [
       "<bound method NDFrame.head of       Rk              Player Pos Age   Tm   G  GS    MP   FG   FGA  ...  ORB  \\\n",
       "0      1      Alaa Abdelnaby  PF  22  POR  43   0   6.7  1.3   2.7  ...  0.6   \n",
       "1      2  Mahmoud Abdul-Rauf  PG  21  DEN  67  19  22.5  6.2  15.1  ...  0.5   \n",
       "2      3          Mark Acres   C  28  ORL  68   0  19.3  1.6   3.1  ...  2.1   \n",
       "3      4       Michael Adams  PG  28  DEN  66  66  35.5  8.5  21.5  ...  0.9   \n",
       "4      5        Mark Aguirre  SF  31  DET  78  13  25.7  5.4  11.7  ...  1.7   \n",
       "..   ...                 ...  ..  ..  ...  ..  ..   ...  ...   ...  ...  ...   \n",
       "699  535      Thaddeus Young  PF  34  TOR  54   9  14.7  2.0   3.7  ...  1.3   \n",
       "700  536          Trae Young  PG  24  ATL  73  73  34.8  8.2  19.0  ...  0.8   \n",
       "701  537      Omer Yurtseven   C  24  MIA   9   0   9.2  1.8   3.0  ...  0.9   \n",
       "702  538         Cody Zeller   C  30  MIA  15   2  14.5  2.5   3.9  ...  1.7   \n",
       "703  539         Ivica Zubac   C  25  LAC  76  76  28.6  4.3   6.8  ...  3.1   \n",
       "\n",
       "     DRB  TRB   AST  STL  BLK  TOV   PF   PTS  Year  \n",
       "0    1.4  2.1   0.3  0.1  0.3  0.5  0.9   3.1  1991  \n",
       "1    1.3  1.8   3.1  0.8  0.1  1.6  2.2  14.1  1991  \n",
       "2    3.2  5.3   0.4  0.4  0.4  0.6  3.2   4.2  1991  \n",
       "3    3.0  3.9  10.5  2.2  0.1  3.6  2.5  26.5  1991  \n",
       "4    3.1  4.8   1.8  0.6  0.3  1.6  2.7  14.2  1991  \n",
       "..   ...  ...   ...  ...  ...  ...  ...   ...   ...  \n",
       "699  1.8  3.1   1.4  1.0  0.1  0.8  1.6   4.4  2023  \n",
       "700  2.2  3.0  10.2  1.1  0.1  4.1  1.4  26.2  2023  \n",
       "701  1.7  2.6   0.2  0.2  0.2  0.4  1.8   4.4  2023  \n",
       "702  2.6  4.3   0.7  0.2  0.3  0.9  2.2   6.5  2023  \n",
       "703  6.8  9.9   1.0  0.4  1.3  1.5  2.9  10.8  2023  \n",
       "\n",
       "[19589 rows x 31 columns]>"
      ]
     },
     "execution_count": 20,
     "metadata": {},
     "output_type": "execute_result"
    }
   ],
   "source": [
    "players.head\n"
   ]
  },
  {
   "cell_type": "code",
   "execution_count": 22,
   "metadata": {},
   "outputs": [],
   "source": [
    "players.to_csv('players.csv')"
   ]
  },
  {
   "cell_type": "code",
   "execution_count": 1,
   "metadata": {},
   "outputs": [
    {
     "ename": "NameError",
     "evalue": "name 'players' is not defined",
     "output_type": "error",
     "traceback": [
      "\u001b[0;31m---------------------------------------------------------------------------\u001b[0m",
      "\u001b[0;31mNameError\u001b[0m                                 Traceback (most recent call last)",
      "Cell \u001b[0;32mIn[1], line 1\u001b[0m\n\u001b[0;32m----> 1\u001b[0m players\n",
      "\u001b[0;31mNameError\u001b[0m: name 'players' is not defined"
     ]
    }
   ],
   "source": [
    "players"
   ]
  },
  {
   "attachments": {},
   "cell_type": "markdown",
   "metadata": {},
   "source": [
    "### webscraping team standings\n"
   ]
  },
  {
   "cell_type": "code",
   "execution_count": 14,
   "metadata": {},
   "outputs": [],
   "source": [
    "team_stats_url = \"https://www.basketball-reference.com/leagues/NBA_{}_standings.html\"\n",
    "\n",
    "for year in years:\n",
    "  url = team_stats_url.format(year)\n",
    "\n",
    "\n",
    "  data = requests.get(url)\n",
    "\n",
    "  with open('team/{}.html'.format(year), 'w+') as f:\n",
    "    f.write(data.text)"
   ]
  },
  {
   "cell_type": "code",
   "execution_count": 15,
   "metadata": {},
   "outputs": [
    {
     "name": "stderr",
     "output_type": "stream",
     "text": [
      "/var/folders/52/jn4lzncn1yb05fn9t893vkf00000gn/T/ipykernel_32458/1455303770.py:8: FutureWarning: Passing literal html to 'read_html' is deprecated and will be removed in a future version. To read from a literal string, wrap it in a 'StringIO' object.\n",
      "  team_table = pd.read_html(str(std_table))[0]\n",
      "/var/folders/52/jn4lzncn1yb05fn9t893vkf00000gn/T/ipykernel_32458/1455303770.py:18: FutureWarning: Passing literal html to 'read_html' is deprecated and will be removed in a future version. To read from a literal string, wrap it in a 'StringIO' object.\n",
      "  team_table = pd.read_html(str(std_table))[0]\n",
      "/var/folders/52/jn4lzncn1yb05fn9t893vkf00000gn/T/ipykernel_32458/1455303770.py:8: FutureWarning: Passing literal html to 'read_html' is deprecated and will be removed in a future version. To read from a literal string, wrap it in a 'StringIO' object.\n",
      "  team_table = pd.read_html(str(std_table))[0]\n",
      "/var/folders/52/jn4lzncn1yb05fn9t893vkf00000gn/T/ipykernel_32458/1455303770.py:18: FutureWarning: Passing literal html to 'read_html' is deprecated and will be removed in a future version. To read from a literal string, wrap it in a 'StringIO' object.\n",
      "  team_table = pd.read_html(str(std_table))[0]\n",
      "/var/folders/52/jn4lzncn1yb05fn9t893vkf00000gn/T/ipykernel_32458/1455303770.py:8: FutureWarning: Passing literal html to 'read_html' is deprecated and will be removed in a future version. To read from a literal string, wrap it in a 'StringIO' object.\n",
      "  team_table = pd.read_html(str(std_table))[0]\n",
      "/var/folders/52/jn4lzncn1yb05fn9t893vkf00000gn/T/ipykernel_32458/1455303770.py:18: FutureWarning: Passing literal html to 'read_html' is deprecated and will be removed in a future version. To read from a literal string, wrap it in a 'StringIO' object.\n",
      "  team_table = pd.read_html(str(std_table))[0]\n",
      "/var/folders/52/jn4lzncn1yb05fn9t893vkf00000gn/T/ipykernel_32458/1455303770.py:8: FutureWarning: Passing literal html to 'read_html' is deprecated and will be removed in a future version. To read from a literal string, wrap it in a 'StringIO' object.\n",
      "  team_table = pd.read_html(str(std_table))[0]\n",
      "/var/folders/52/jn4lzncn1yb05fn9t893vkf00000gn/T/ipykernel_32458/1455303770.py:18: FutureWarning: Passing literal html to 'read_html' is deprecated and will be removed in a future version. To read from a literal string, wrap it in a 'StringIO' object.\n",
      "  team_table = pd.read_html(str(std_table))[0]\n",
      "/var/folders/52/jn4lzncn1yb05fn9t893vkf00000gn/T/ipykernel_32458/1455303770.py:8: FutureWarning: Passing literal html to 'read_html' is deprecated and will be removed in a future version. To read from a literal string, wrap it in a 'StringIO' object.\n",
      "  team_table = pd.read_html(str(std_table))[0]\n",
      "/var/folders/52/jn4lzncn1yb05fn9t893vkf00000gn/T/ipykernel_32458/1455303770.py:18: FutureWarning: Passing literal html to 'read_html' is deprecated and will be removed in a future version. To read from a literal string, wrap it in a 'StringIO' object.\n",
      "  team_table = pd.read_html(str(std_table))[0]\n",
      "/var/folders/52/jn4lzncn1yb05fn9t893vkf00000gn/T/ipykernel_32458/1455303770.py:8: FutureWarning: Passing literal html to 'read_html' is deprecated and will be removed in a future version. To read from a literal string, wrap it in a 'StringIO' object.\n",
      "  team_table = pd.read_html(str(std_table))[0]\n",
      "/var/folders/52/jn4lzncn1yb05fn9t893vkf00000gn/T/ipykernel_32458/1455303770.py:18: FutureWarning: Passing literal html to 'read_html' is deprecated and will be removed in a future version. To read from a literal string, wrap it in a 'StringIO' object.\n",
      "  team_table = pd.read_html(str(std_table))[0]\n",
      "/var/folders/52/jn4lzncn1yb05fn9t893vkf00000gn/T/ipykernel_32458/1455303770.py:8: FutureWarning: Passing literal html to 'read_html' is deprecated and will be removed in a future version. To read from a literal string, wrap it in a 'StringIO' object.\n",
      "  team_table = pd.read_html(str(std_table))[0]\n",
      "/var/folders/52/jn4lzncn1yb05fn9t893vkf00000gn/T/ipykernel_32458/1455303770.py:18: FutureWarning: Passing literal html to 'read_html' is deprecated and will be removed in a future version. To read from a literal string, wrap it in a 'StringIO' object.\n",
      "  team_table = pd.read_html(str(std_table))[0]\n",
      "/var/folders/52/jn4lzncn1yb05fn9t893vkf00000gn/T/ipykernel_32458/1455303770.py:8: FutureWarning: Passing literal html to 'read_html' is deprecated and will be removed in a future version. To read from a literal string, wrap it in a 'StringIO' object.\n",
      "  team_table = pd.read_html(str(std_table))[0]\n",
      "/var/folders/52/jn4lzncn1yb05fn9t893vkf00000gn/T/ipykernel_32458/1455303770.py:18: FutureWarning: Passing literal html to 'read_html' is deprecated and will be removed in a future version. To read from a literal string, wrap it in a 'StringIO' object.\n",
      "  team_table = pd.read_html(str(std_table))[0]\n",
      "/var/folders/52/jn4lzncn1yb05fn9t893vkf00000gn/T/ipykernel_32458/1455303770.py:8: FutureWarning: Passing literal html to 'read_html' is deprecated and will be removed in a future version. To read from a literal string, wrap it in a 'StringIO' object.\n",
      "  team_table = pd.read_html(str(std_table))[0]\n",
      "/var/folders/52/jn4lzncn1yb05fn9t893vkf00000gn/T/ipykernel_32458/1455303770.py:18: FutureWarning: Passing literal html to 'read_html' is deprecated and will be removed in a future version. To read from a literal string, wrap it in a 'StringIO' object.\n",
      "  team_table = pd.read_html(str(std_table))[0]\n",
      "/var/folders/52/jn4lzncn1yb05fn9t893vkf00000gn/T/ipykernel_32458/1455303770.py:8: FutureWarning: Passing literal html to 'read_html' is deprecated and will be removed in a future version. To read from a literal string, wrap it in a 'StringIO' object.\n",
      "  team_table = pd.read_html(str(std_table))[0]\n",
      "/var/folders/52/jn4lzncn1yb05fn9t893vkf00000gn/T/ipykernel_32458/1455303770.py:18: FutureWarning: Passing literal html to 'read_html' is deprecated and will be removed in a future version. To read from a literal string, wrap it in a 'StringIO' object.\n",
      "  team_table = pd.read_html(str(std_table))[0]\n",
      "/var/folders/52/jn4lzncn1yb05fn9t893vkf00000gn/T/ipykernel_32458/1455303770.py:8: FutureWarning: Passing literal html to 'read_html' is deprecated and will be removed in a future version. To read from a literal string, wrap it in a 'StringIO' object.\n",
      "  team_table = pd.read_html(str(std_table))[0]\n",
      "/var/folders/52/jn4lzncn1yb05fn9t893vkf00000gn/T/ipykernel_32458/1455303770.py:18: FutureWarning: Passing literal html to 'read_html' is deprecated and will be removed in a future version. To read from a literal string, wrap it in a 'StringIO' object.\n",
      "  team_table = pd.read_html(str(std_table))[0]\n",
      "/var/folders/52/jn4lzncn1yb05fn9t893vkf00000gn/T/ipykernel_32458/1455303770.py:8: FutureWarning: Passing literal html to 'read_html' is deprecated and will be removed in a future version. To read from a literal string, wrap it in a 'StringIO' object.\n",
      "  team_table = pd.read_html(str(std_table))[0]\n",
      "/var/folders/52/jn4lzncn1yb05fn9t893vkf00000gn/T/ipykernel_32458/1455303770.py:18: FutureWarning: Passing literal html to 'read_html' is deprecated and will be removed in a future version. To read from a literal string, wrap it in a 'StringIO' object.\n",
      "  team_table = pd.read_html(str(std_table))[0]\n",
      "/var/folders/52/jn4lzncn1yb05fn9t893vkf00000gn/T/ipykernel_32458/1455303770.py:8: FutureWarning: Passing literal html to 'read_html' is deprecated and will be removed in a future version. To read from a literal string, wrap it in a 'StringIO' object.\n",
      "  team_table = pd.read_html(str(std_table))[0]\n",
      "/var/folders/52/jn4lzncn1yb05fn9t893vkf00000gn/T/ipykernel_32458/1455303770.py:18: FutureWarning: Passing literal html to 'read_html' is deprecated and will be removed in a future version. To read from a literal string, wrap it in a 'StringIO' object.\n",
      "  team_table = pd.read_html(str(std_table))[0]\n",
      "/var/folders/52/jn4lzncn1yb05fn9t893vkf00000gn/T/ipykernel_32458/1455303770.py:8: FutureWarning: Passing literal html to 'read_html' is deprecated and will be removed in a future version. To read from a literal string, wrap it in a 'StringIO' object.\n",
      "  team_table = pd.read_html(str(std_table))[0]\n",
      "/var/folders/52/jn4lzncn1yb05fn9t893vkf00000gn/T/ipykernel_32458/1455303770.py:18: FutureWarning: Passing literal html to 'read_html' is deprecated and will be removed in a future version. To read from a literal string, wrap it in a 'StringIO' object.\n",
      "  team_table = pd.read_html(str(std_table))[0]\n",
      "/var/folders/52/jn4lzncn1yb05fn9t893vkf00000gn/T/ipykernel_32458/1455303770.py:8: FutureWarning: Passing literal html to 'read_html' is deprecated and will be removed in a future version. To read from a literal string, wrap it in a 'StringIO' object.\n",
      "  team_table = pd.read_html(str(std_table))[0]\n",
      "/var/folders/52/jn4lzncn1yb05fn9t893vkf00000gn/T/ipykernel_32458/1455303770.py:18: FutureWarning: Passing literal html to 'read_html' is deprecated and will be removed in a future version. To read from a literal string, wrap it in a 'StringIO' object.\n",
      "  team_table = pd.read_html(str(std_table))[0]\n",
      "/var/folders/52/jn4lzncn1yb05fn9t893vkf00000gn/T/ipykernel_32458/1455303770.py:8: FutureWarning: Passing literal html to 'read_html' is deprecated and will be removed in a future version. To read from a literal string, wrap it in a 'StringIO' object.\n",
      "  team_table = pd.read_html(str(std_table))[0]\n",
      "/var/folders/52/jn4lzncn1yb05fn9t893vkf00000gn/T/ipykernel_32458/1455303770.py:18: FutureWarning: Passing literal html to 'read_html' is deprecated and will be removed in a future version. To read from a literal string, wrap it in a 'StringIO' object.\n",
      "  team_table = pd.read_html(str(std_table))[0]\n",
      "/var/folders/52/jn4lzncn1yb05fn9t893vkf00000gn/T/ipykernel_32458/1455303770.py:8: FutureWarning: Passing literal html to 'read_html' is deprecated and will be removed in a future version. To read from a literal string, wrap it in a 'StringIO' object.\n",
      "  team_table = pd.read_html(str(std_table))[0]\n",
      "/var/folders/52/jn4lzncn1yb05fn9t893vkf00000gn/T/ipykernel_32458/1455303770.py:18: FutureWarning: Passing literal html to 'read_html' is deprecated and will be removed in a future version. To read from a literal string, wrap it in a 'StringIO' object.\n",
      "  team_table = pd.read_html(str(std_table))[0]\n",
      "/var/folders/52/jn4lzncn1yb05fn9t893vkf00000gn/T/ipykernel_32458/1455303770.py:8: FutureWarning: Passing literal html to 'read_html' is deprecated and will be removed in a future version. To read from a literal string, wrap it in a 'StringIO' object.\n",
      "  team_table = pd.read_html(str(std_table))[0]\n",
      "/var/folders/52/jn4lzncn1yb05fn9t893vkf00000gn/T/ipykernel_32458/1455303770.py:18: FutureWarning: Passing literal html to 'read_html' is deprecated and will be removed in a future version. To read from a literal string, wrap it in a 'StringIO' object.\n",
      "  team_table = pd.read_html(str(std_table))[0]\n",
      "/var/folders/52/jn4lzncn1yb05fn9t893vkf00000gn/T/ipykernel_32458/1455303770.py:8: FutureWarning: Passing literal html to 'read_html' is deprecated and will be removed in a future version. To read from a literal string, wrap it in a 'StringIO' object.\n",
      "  team_table = pd.read_html(str(std_table))[0]\n",
      "/var/folders/52/jn4lzncn1yb05fn9t893vkf00000gn/T/ipykernel_32458/1455303770.py:18: FutureWarning: Passing literal html to 'read_html' is deprecated and will be removed in a future version. To read from a literal string, wrap it in a 'StringIO' object.\n",
      "  team_table = pd.read_html(str(std_table))[0]\n",
      "/var/folders/52/jn4lzncn1yb05fn9t893vkf00000gn/T/ipykernel_32458/1455303770.py:8: FutureWarning: Passing literal html to 'read_html' is deprecated and will be removed in a future version. To read from a literal string, wrap it in a 'StringIO' object.\n",
      "  team_table = pd.read_html(str(std_table))[0]\n",
      "/var/folders/52/jn4lzncn1yb05fn9t893vkf00000gn/T/ipykernel_32458/1455303770.py:18: FutureWarning: Passing literal html to 'read_html' is deprecated and will be removed in a future version. To read from a literal string, wrap it in a 'StringIO' object.\n",
      "  team_table = pd.read_html(str(std_table))[0]\n",
      "/var/folders/52/jn4lzncn1yb05fn9t893vkf00000gn/T/ipykernel_32458/1455303770.py:8: FutureWarning: Passing literal html to 'read_html' is deprecated and will be removed in a future version. To read from a literal string, wrap it in a 'StringIO' object.\n",
      "  team_table = pd.read_html(str(std_table))[0]\n",
      "/var/folders/52/jn4lzncn1yb05fn9t893vkf00000gn/T/ipykernel_32458/1455303770.py:18: FutureWarning: Passing literal html to 'read_html' is deprecated and will be removed in a future version. To read from a literal string, wrap it in a 'StringIO' object.\n",
      "  team_table = pd.read_html(str(std_table))[0]\n",
      "/var/folders/52/jn4lzncn1yb05fn9t893vkf00000gn/T/ipykernel_32458/1455303770.py:8: FutureWarning: Passing literal html to 'read_html' is deprecated and will be removed in a future version. To read from a literal string, wrap it in a 'StringIO' object.\n",
      "  team_table = pd.read_html(str(std_table))[0]\n",
      "/var/folders/52/jn4lzncn1yb05fn9t893vkf00000gn/T/ipykernel_32458/1455303770.py:18: FutureWarning: Passing literal html to 'read_html' is deprecated and will be removed in a future version. To read from a literal string, wrap it in a 'StringIO' object.\n",
      "  team_table = pd.read_html(str(std_table))[0]\n",
      "/var/folders/52/jn4lzncn1yb05fn9t893vkf00000gn/T/ipykernel_32458/1455303770.py:8: FutureWarning: Passing literal html to 'read_html' is deprecated and will be removed in a future version. To read from a literal string, wrap it in a 'StringIO' object.\n",
      "  team_table = pd.read_html(str(std_table))[0]\n",
      "/var/folders/52/jn4lzncn1yb05fn9t893vkf00000gn/T/ipykernel_32458/1455303770.py:18: FutureWarning: Passing literal html to 'read_html' is deprecated and will be removed in a future version. To read from a literal string, wrap it in a 'StringIO' object.\n",
      "  team_table = pd.read_html(str(std_table))[0]\n",
      "/var/folders/52/jn4lzncn1yb05fn9t893vkf00000gn/T/ipykernel_32458/1455303770.py:8: FutureWarning: Passing literal html to 'read_html' is deprecated and will be removed in a future version. To read from a literal string, wrap it in a 'StringIO' object.\n",
      "  team_table = pd.read_html(str(std_table))[0]\n",
      "/var/folders/52/jn4lzncn1yb05fn9t893vkf00000gn/T/ipykernel_32458/1455303770.py:18: FutureWarning: Passing literal html to 'read_html' is deprecated and will be removed in a future version. To read from a literal string, wrap it in a 'StringIO' object.\n",
      "  team_table = pd.read_html(str(std_table))[0]\n",
      "/var/folders/52/jn4lzncn1yb05fn9t893vkf00000gn/T/ipykernel_32458/1455303770.py:8: FutureWarning: Passing literal html to 'read_html' is deprecated and will be removed in a future version. To read from a literal string, wrap it in a 'StringIO' object.\n",
      "  team_table = pd.read_html(str(std_table))[0]\n",
      "/var/folders/52/jn4lzncn1yb05fn9t893vkf00000gn/T/ipykernel_32458/1455303770.py:18: FutureWarning: Passing literal html to 'read_html' is deprecated and will be removed in a future version. To read from a literal string, wrap it in a 'StringIO' object.\n",
      "  team_table = pd.read_html(str(std_table))[0]\n",
      "/var/folders/52/jn4lzncn1yb05fn9t893vkf00000gn/T/ipykernel_32458/1455303770.py:8: FutureWarning: Passing literal html to 'read_html' is deprecated and will be removed in a future version. To read from a literal string, wrap it in a 'StringIO' object.\n",
      "  team_table = pd.read_html(str(std_table))[0]\n",
      "/var/folders/52/jn4lzncn1yb05fn9t893vkf00000gn/T/ipykernel_32458/1455303770.py:18: FutureWarning: Passing literal html to 'read_html' is deprecated and will be removed in a future version. To read from a literal string, wrap it in a 'StringIO' object.\n",
      "  team_table = pd.read_html(str(std_table))[0]\n",
      "/var/folders/52/jn4lzncn1yb05fn9t893vkf00000gn/T/ipykernel_32458/1455303770.py:8: FutureWarning: Passing literal html to 'read_html' is deprecated and will be removed in a future version. To read from a literal string, wrap it in a 'StringIO' object.\n",
      "  team_table = pd.read_html(str(std_table))[0]\n",
      "/var/folders/52/jn4lzncn1yb05fn9t893vkf00000gn/T/ipykernel_32458/1455303770.py:18: FutureWarning: Passing literal html to 'read_html' is deprecated and will be removed in a future version. To read from a literal string, wrap it in a 'StringIO' object.\n",
      "  team_table = pd.read_html(str(std_table))[0]\n",
      "/var/folders/52/jn4lzncn1yb05fn9t893vkf00000gn/T/ipykernel_32458/1455303770.py:8: FutureWarning: Passing literal html to 'read_html' is deprecated and will be removed in a future version. To read from a literal string, wrap it in a 'StringIO' object.\n",
      "  team_table = pd.read_html(str(std_table))[0]\n",
      "/var/folders/52/jn4lzncn1yb05fn9t893vkf00000gn/T/ipykernel_32458/1455303770.py:18: FutureWarning: Passing literal html to 'read_html' is deprecated and will be removed in a future version. To read from a literal string, wrap it in a 'StringIO' object.\n",
      "  team_table = pd.read_html(str(std_table))[0]\n",
      "/var/folders/52/jn4lzncn1yb05fn9t893vkf00000gn/T/ipykernel_32458/1455303770.py:8: FutureWarning: Passing literal html to 'read_html' is deprecated and will be removed in a future version. To read from a literal string, wrap it in a 'StringIO' object.\n",
      "  team_table = pd.read_html(str(std_table))[0]\n",
      "/var/folders/52/jn4lzncn1yb05fn9t893vkf00000gn/T/ipykernel_32458/1455303770.py:18: FutureWarning: Passing literal html to 'read_html' is deprecated and will be removed in a future version. To read from a literal string, wrap it in a 'StringIO' object.\n",
      "  team_table = pd.read_html(str(std_table))[0]\n",
      "/var/folders/52/jn4lzncn1yb05fn9t893vkf00000gn/T/ipykernel_32458/1455303770.py:8: FutureWarning: Passing literal html to 'read_html' is deprecated and will be removed in a future version. To read from a literal string, wrap it in a 'StringIO' object.\n",
      "  team_table = pd.read_html(str(std_table))[0]\n",
      "/var/folders/52/jn4lzncn1yb05fn9t893vkf00000gn/T/ipykernel_32458/1455303770.py:18: FutureWarning: Passing literal html to 'read_html' is deprecated and will be removed in a future version. To read from a literal string, wrap it in a 'StringIO' object.\n",
      "  team_table = pd.read_html(str(std_table))[0]\n"
     ]
    }
   ],
   "source": [
    "dfs=[]\n",
    "for year in years:\n",
    "  with open('team/{}.html'.format(year)) as f:\n",
    "    page_standings = f.read()\n",
    "  soup_std = BeautifulSoup(page_standings, 'html.parser')\n",
    "  soup_std.find('tr', class_ = 'thead').decompose()\n",
    "  std_table = soup_std.find(id = 'divs_standings_E')\n",
    "  team_table = pd.read_html(str(std_table))[0]\n",
    "  team_table['Years'] = year\n",
    "  team_table['Team'] = team_table['Eastern Conference']\n",
    "  del team_table['Eastern Conference']\n",
    "  dfs.append(team_table)\n",
    "\n",
    "\n",
    "  soup_std = BeautifulSoup(page_standings, 'html.parser')\n",
    "  soup_std.find('tr', class_ = 'thead').decompose()\n",
    "  std_table = soup_std.find(id = 'divs_standings_W')\n",
    "  team_table = pd.read_html(str(std_table))[0]\n",
    "  team_table['Years'] = year\n",
    "  team_table['Team'] = team_table['Western Conference']\n",
    "  del team_table['Western Conference']\n",
    "  dfs.append(team_table)\n",
    "\n",
    "\n"
   ]
  },
  {
   "cell_type": "code",
   "execution_count": 16,
   "metadata": {},
   "outputs": [],
   "source": [
    "teams = pd.concat(dfs)"
   ]
  },
  {
   "cell_type": "code",
   "execution_count": null,
   "metadata": {},
   "outputs": [],
   "source": []
  }
 ],
 "metadata": {
  "kernelspec": {
   "display_name": "Python 3",
   "language": "python",
   "name": "python3"
  },
  "language_info": {
   "codemirror_mode": {
    "name": "ipython",
    "version": 3
   },
   "file_extension": ".py",
   "mimetype": "text/x-python",
   "name": "python",
   "nbconvert_exporter": "python",
   "pygments_lexer": "ipython3",
   "version": "3.9.6"
  },
  "orig_nbformat": 4
 },
 "nbformat": 4,
 "nbformat_minor": 2
}
